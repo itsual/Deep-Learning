{
 "cells": [
  {
   "cell_type": "markdown",
   "metadata": {},
   "source": [
    "# Gesture Recognition\n",
    "In this project, you are going to build a 3D Conv model that will be able to predict the 5 gestures correctly. Please import the following libraries to get started."
   ]
  },
  {
   "cell_type": "code",
   "execution_count": 1,
   "metadata": {},
   "outputs": [],
   "source": [
    "import numpy as np\n",
    "import os\n",
    "from scipy.misc import imread, imresize\n",
    "import datetime\n",
    "import os\n",
    "from zipfile import ZipFile\n",
    "import matplotlib.pyplot as plt\n",
    "%matplotlib inline\n",
    "\n",
    "# Supress Warnings\n",
    "import warnings\n",
    "warnings.filterwarnings('ignore')"
   ]
  },
  {
   "cell_type": "markdown",
   "metadata": {},
   "source": [
    "We set the random seed so that the results don't vary drastically."
   ]
  },
  {
   "cell_type": "code",
   "execution_count": 2,
   "metadata": {},
   "outputs": [
    {
     "name": "stderr",
     "output_type": "stream",
     "text": [
      "Using TensorFlow backend.\n"
     ]
    }
   ],
   "source": [
    "np.random.seed(30)\n",
    "import random as rn\n",
    "rn.seed(30)\n",
    "from keras import backend as K\n",
    "import tensorflow as tf\n",
    "tf.set_random_seed(30)"
   ]
  },
  {
   "cell_type": "markdown",
   "metadata": {},
   "source": [
    "In this block, you read the folder names for training and validation. You also set the `batch_size` here. Note that you set the batch size in such a way that you are able to use the GPU in full capacity. You keep increasing the batch size until the machine throws an error."
   ]
  },
  {
   "cell_type": "code",
   "execution_count": 3,
   "metadata": {},
   "outputs": [],
   "source": [
    "#Load Data\n",
    "\n",
    "train_doc = np.random.permutation(open('train.csv').readlines())\n",
    "val_doc = np.random.permutation(open('val.csv').readlines())\n",
    "batch_size = 50 #experiment with the batch size"
   ]
  },
  {
   "cell_type": "markdown",
   "metadata": {},
   "source": [
    "## Generator\n",
    "This is one of the most important part of the code. The overall structure of the generator has been given. In the generator, you are going to preprocess the images as you have images of 2 different dimensions as well as create a batch of video frames. You have to experiment with `img_idx`, `y`,`z` and normalization such that you get high accuracy."
   ]
  },
  {
   "cell_type": "code",
   "execution_count": 4,
   "metadata": {},
   "outputs": [],
   "source": [
    "x = 30 # # x is the number of images\n",
    "y = 120 # width of the image\n",
    "z = 120 # height of the image"
   ]
  },
  {
   "cell_type": "code",
   "execution_count": 5,
   "metadata": {},
   "outputs": [],
   "source": [
    "def generator(source_path, folder_list, batch_size):\n",
    "    print( 'Source path = ', source_path, '; batch size =', batch_size)\n",
    "    img_idx = [x for x in range(0,x)] #create a list of image numbers you want to use for a particular video\n",
    "    while True:\n",
    "        t = np.random.permutation(folder_list)\n",
    "        num_batches = len(folder_list)//batch_size # calculate the number of batches\n",
    "        for batch in range(num_batches): # we iterate over the number of batches\n",
    "            batch_data = np.zeros((batch_size,x,y,z,3)) # x is the number of images you use for each video, (y,z) is the final size of the input images and 3 is the number of channels RGB\n",
    "            batch_labels = np.zeros((batch_size,5)) # batch_labels is the one hot representation of the output\n",
    "            for folder in range(batch_size): # iterate over the batch_size\n",
    "                imgs = os.listdir(source_path+'/'+ t[folder + (batch*batch_size)].split(';')[0]) # read all the images in the folder\n",
    "                for idx,item in enumerate(img_idx): #  Iterate iver the frames/images of a folder to read them in\n",
    "                    image = imread(source_path+'/'+ t[folder + (batch*batch_size)].strip().split(';')[0]+'/'+imgs[item]).astype(np.float32)\n",
    "                    \n",
    "                    #crop the images and resize them. Note that the images are of 2 different shape \n",
    "                    #and the conv3D will throw error if the inputs in a batch have different shapes\n",
    "                    temp = imresize(image,(120,120))\n",
    "                    temp = temp/127.5-1 #Normalize data\n",
    "                    \n",
    "                    batch_data[folder,idx,:,:,0] = (temp[:,:,0]) #normalise and feed in the image\n",
    "                    batch_data[folder,idx,:,:,1] = (temp[:,:,1]) #normalise and feed in the image\n",
    "                    batch_data[folder,idx,:,:,2] = (temp[:,:,2]) #normalise and feed in the image\n",
    "                    \n",
    "                batch_labels[folder, int(t[folder + (batch*batch_size)].strip().split(';')[2])] = 1\n",
    "            yield batch_data, batch_labels #you yield the batch_data and the batch_labels, remember what does yield do\n",
    "\n",
    "        \n",
    "        # write the code for the remaining data points which are left after full batches\n",
    "\n",
    "        if (len(folder_list) != batch_size*num_batches):\n",
    "            print(\"Batch: \",num_batches+1,\"Index:\", batch_size)\n",
    "            batch_size = len(folder_list) - (batch_size*num_batches)\n",
    "            batch_data = np.zeros((batch_size,x,y,z,3)) # x is the number of images you use for each video, (y,z) is the final size of the input images and 3 is the number of channels RGB\n",
    "            batch_labels = np.zeros((batch_size,5)) # batch_labels is the one hot representation of the output\n",
    "            for folder in range(batch_size): # iterate over the batch_size\n",
    "                imgs = os.listdir(source_path+'/'+ t[folder + (batch*batch_size)].split(';')[0]) # read all the images in the folder\n",
    "                for idx,item in enumerate(img_idx): #  Iterate iver the frames/images of a folder to read them in\n",
    "                    image = imread(source_path+'/'+ t[folder + (batch*batch_size)].strip().split(';')[0]+'/'+imgs[item]).astype(np.float32)\n",
    "                    \n",
    "                    #crop the images and resize them. Note that the images are of 2 different shape \n",
    "                    #and the conv3D will throw error if the inputs in a batch have different shapes\n",
    "                    temp = imresize(image,(120,120))\n",
    "                    temp = temp/127.5-1 #Normalize data\n",
    "                    \n",
    "                    batch_data[folder,idx,:,:,0] = (temp[:,:,0])\n",
    "                    batch_data[folder,idx,:,:,1] = (temp[:,:,1])\n",
    "                    batch_data[folder,idx,:,:,2] = (temp[:,:,2])\n",
    "                   \n",
    "                batch_labels[folder, int(t[folder + (batch*batch_size)].strip().split(';')[2])] = 1\n",
    "            yield batch_data, batch_labels"
   ]
  },
  {
   "cell_type": "markdown",
   "metadata": {},
   "source": [
    "Note here that a video is represented above in the generator as (number of images, height, width, number of channels). Take this into consideration while creating the model architecture."
   ]
  },
  {
   "cell_type": "code",
   "execution_count": 6,
   "metadata": {},
   "outputs": [
    {
     "name": "stdout",
     "output_type": "stream",
     "text": [
      "# training sequences = 663\n",
      "# validation sequences = 100\n",
      "# epochs = 50\n"
     ]
    }
   ],
   "source": [
    "curr_dt_time = datetime.datetime.now()\n",
    "train_path = 'train'\n",
    "val_path = 'val'\n",
    "num_train_sequences = len(train_doc)\n",
    "print('# training sequences =', num_train_sequences)\n",
    "num_val_sequences = len(val_doc)\n",
    "print('# validation sequences =', num_val_sequences)\n",
    "num_epochs = 50 # choose the number of epochs\n",
    "print ('# epochs =', num_epochs)"
   ]
  },
  {
   "cell_type": "markdown",
   "metadata": {},
   "source": [
    "## Model\n",
    "Here you make the model using different functionalities that Keras provides. Remember to use `Conv3D` and `MaxPooling3D` and not `Conv2D` and `Maxpooling2D` for a 3D convolution model. You would want to use `TimeDistributed` while building a Conv2D + RNN model. Also remember that the last layer is the softmax. Design the network in such a way that the model is able to give good accuracy on the least number of parameters so that it can fit in the memory of the webcam."
   ]
  },
  {
   "cell_type": "code",
   "execution_count": 7,
   "metadata": {},
   "outputs": [],
   "source": [
    "import keras\n",
    "from keras.models import Sequential, Model\n",
    "from keras.layers import Dense, GRU, Flatten, TimeDistributed, Flatten, BatchNormalization, Activation\n",
    "from keras.layers.convolutional import Conv3D, MaxPooling3D\n",
    "from keras.callbacks import ModelCheckpoint, ReduceLROnPlateau\n",
    "from keras import optimizers\n",
    "from keras.layers import Dropout\n",
    "\n",
    "#write your model here\n",
    "\n",
    "model_al1 = Sequential()\n",
    "\n",
    "model_al1.add(Conv3D(8, #number of filters \n",
    "                 kernel_size=(3,3,3), \n",
    "                 input_shape=(30, 120, 120, 3),\n",
    "                 padding='same'))\n",
    "model_al1.add(BatchNormalization())\n",
    "model_al1.add(Activation('relu'))\n",
    "\n",
    "model_al1.add(MaxPooling3D(pool_size=(2,2,2)))\n",
    "\n",
    "model_al1.add(Conv3D(16, #Number of filters, \n",
    "                 kernel_size=(3,3,3), \n",
    "                 padding='same'))\n",
    "model_al1.add(BatchNormalization())\n",
    "model_al1.add(Activation('relu'))\n",
    "\n",
    "model_al1.add(MaxPooling3D(pool_size=(2,2,2)))\n",
    "\n",
    "model_al1.add(Conv3D(32, #Number of filters \n",
    "                 kernel_size=(3,3,3), \n",
    "                 padding='same'))\n",
    "model_al1.add(BatchNormalization())\n",
    "model_al1.add(Activation('relu'))\n",
    "\n",
    "model_al1.add(MaxPooling3D(pool_size=(2,2,2)))\n",
    "\n",
    "model_al1.add(Conv3D(64, #Number pf filters \n",
    "                 kernel_size=(3,3,3), \n",
    "                 padding='same'))\n",
    "model_al1.add(BatchNormalization())\n",
    "model_al1.add(Activation('relu'))\n",
    "\n",
    "model_al1.add(MaxPooling3D(pool_size=(2,2,2)))\n",
    "\n",
    "#Flatten Layers\n",
    "model_al1.add(Flatten())\n",
    "\n",
    "model_al1.add(Dense(1000, activation='relu'))\n",
    "model_al1.add(Dropout(0.5))\n",
    "\n",
    "model_al1.add(Dense(500, activation='relu'))\n",
    "model_al1.add(Dropout(0.5))\n",
    "\n",
    "#softmax layer\n",
    "model_al1.add(Dense(5, activation='softmax'))\n",
    "\n"
   ]
  },
  {
   "cell_type": "markdown",
   "metadata": {},
   "source": [
    "Now that you have written the model, the next step is to `compile` the model. When you print the `summary` of the model, you'll see the total number of parameters you have to train."
   ]
  },
  {
   "cell_type": "code",
   "execution_count": 8,
   "metadata": {
    "scrolled": true
   },
   "outputs": [
    {
     "name": "stdout",
     "output_type": "stream",
     "text": [
      "_________________________________________________________________\n",
      "Layer (type)                 Output Shape              Param #   \n",
      "=================================================================\n",
      "conv3d_1 (Conv3D)            (None, 30, 120, 120, 8)   656       \n",
      "_________________________________________________________________\n",
      "batch_normalization_1 (Batch (None, 30, 120, 120, 8)   32        \n",
      "_________________________________________________________________\n",
      "activation_1 (Activation)    (None, 30, 120, 120, 8)   0         \n",
      "_________________________________________________________________\n",
      "max_pooling3d_1 (MaxPooling3 (None, 15, 60, 60, 8)     0         \n",
      "_________________________________________________________________\n",
      "conv3d_2 (Conv3D)            (None, 15, 60, 60, 16)    3472      \n",
      "_________________________________________________________________\n",
      "batch_normalization_2 (Batch (None, 15, 60, 60, 16)    64        \n",
      "_________________________________________________________________\n",
      "activation_2 (Activation)    (None, 15, 60, 60, 16)    0         \n",
      "_________________________________________________________________\n",
      "max_pooling3d_2 (MaxPooling3 (None, 7, 30, 30, 16)     0         \n",
      "_________________________________________________________________\n",
      "conv3d_3 (Conv3D)            (None, 7, 30, 30, 32)     13856     \n",
      "_________________________________________________________________\n",
      "batch_normalization_3 (Batch (None, 7, 30, 30, 32)     128       \n",
      "_________________________________________________________________\n",
      "activation_3 (Activation)    (None, 7, 30, 30, 32)     0         \n",
      "_________________________________________________________________\n",
      "max_pooling3d_3 (MaxPooling3 (None, 3, 15, 15, 32)     0         \n",
      "_________________________________________________________________\n",
      "conv3d_4 (Conv3D)            (None, 3, 15, 15, 64)     55360     \n",
      "_________________________________________________________________\n",
      "batch_normalization_4 (Batch (None, 3, 15, 15, 64)     256       \n",
      "_________________________________________________________________\n",
      "activation_4 (Activation)    (None, 3, 15, 15, 64)     0         \n",
      "_________________________________________________________________\n",
      "max_pooling3d_4 (MaxPooling3 (None, 1, 7, 7, 64)       0         \n",
      "_________________________________________________________________\n",
      "flatten_1 (Flatten)          (None, 3136)              0         \n",
      "_________________________________________________________________\n",
      "dense_1 (Dense)              (None, 1000)              3137000   \n",
      "_________________________________________________________________\n",
      "dropout_1 (Dropout)          (None, 1000)              0         \n",
      "_________________________________________________________________\n",
      "dense_2 (Dense)              (None, 500)               500500    \n",
      "_________________________________________________________________\n",
      "dropout_2 (Dropout)          (None, 500)               0         \n",
      "_________________________________________________________________\n",
      "dense_3 (Dense)              (None, 5)                 2505      \n",
      "=================================================================\n",
      "Total params: 3,713,829\n",
      "Trainable params: 3,713,589\n",
      "Non-trainable params: 240\n",
      "_________________________________________________________________\n",
      "None\n"
     ]
    }
   ],
   "source": [
    "optimiser = optimizers.Adam(lr=0.001) #write your optimizer\n",
    "model_al1.compile(optimizer=optimiser, loss='categorical_crossentropy', metrics=['categorical_accuracy'])\n",
    "print (model_al1.summary())"
   ]
  },
  {
   "cell_type": "markdown",
   "metadata": {},
   "source": [
    "Let us create the `train_generator` and the `val_generator` which will be used in `.fit_generator`."
   ]
  },
  {
   "cell_type": "code",
   "execution_count": 9,
   "metadata": {},
   "outputs": [],
   "source": [
    "train_generator = generator(train_path, train_doc, batch_size)\n",
    "val_generator = generator(val_path, val_doc, batch_size)"
   ]
  },
  {
   "cell_type": "code",
   "execution_count": 10,
   "metadata": {},
   "outputs": [],
   "source": [
    "model_name = 'model_init' + '_' + str(curr_dt_time).replace(' ','').replace(':','_') + '/'\n",
    "    \n",
    "if not os.path.exists(model_name):\n",
    "    os.mkdir(model_name)\n",
    "        \n",
    "filepath = model_name + 'model-{epoch:05d}-{loss:.5f}-{categorical_accuracy:.5f}-{val_loss:.5f}-{val_categorical_accuracy:.5f}.h5'\n",
    "\n",
    "checkpoint = ModelCheckpoint(filepath, monitor='val_loss', verbose=1, save_best_only=False, save_weights_only=False, mode='auto', period=1)\n",
    "\n",
    "LR = ReduceLROnPlateau(monitor='val_loss', factor=0.5, patience=2, cooldown=1, verbose=1)  # write the REducelronplateau code here\n",
    "callbacks_list = [checkpoint, LR]"
   ]
  },
  {
   "cell_type": "markdown",
   "metadata": {},
   "source": [
    "The `steps_per_epoch` and `validation_steps` are used by `fit_generator` to decide the number of next() calls it need to make."
   ]
  },
  {
   "cell_type": "code",
   "execution_count": 11,
   "metadata": {},
   "outputs": [],
   "source": [
    "if (num_train_sequences%batch_size) == 0:\n",
    "    steps_per_epoch = int(num_train_sequences/batch_size)\n",
    "else:\n",
    "    steps_per_epoch = (num_train_sequences//batch_size) + 1\n",
    "\n",
    "if (num_val_sequences%batch_size) == 0:\n",
    "    validation_steps = int(num_val_sequences/batch_size)\n",
    "else:\n",
    "    validation_steps = (num_val_sequences//batch_size) + 1"
   ]
  },
  {
   "cell_type": "markdown",
   "metadata": {},
   "source": [
    "Let us now fit the model. This will start training the model and with the help of the checkpoints, you'll be able to save the model at the end of each epoch."
   ]
  },
  {
   "cell_type": "code",
   "execution_count": 12,
   "metadata": {
    "scrolled": false
   },
   "outputs": [
    {
     "name": "stdout",
     "output_type": "stream",
     "text": [
      "Source path =  val ; batch size = 50\n",
      "Source path =  train ; batch size = 50\n",
      "Epoch 1/50\n",
      "12/14 [========================>.....] - ETA: 32s - loss: 3.6885 - categorical_accuracy: 0.2733Batch:  14 Index: 50\n",
      "14/14 [==============================] - 216s 15s/step - loss: 3.5587 - categorical_accuracy: 0.2729 - val_loss: 5.7684 - val_categorical_accuracy: 0.2300\n",
      "\n",
      "Epoch 00001: saving model to model_init_2020-03-0215_54_36.441155/model-00001-3.59057-0.27903-5.76838-0.23000.h5\n",
      "Epoch 2/50\n",
      "14/14 [==============================] - 21s 2s/step - loss: 1.9403 - categorical_accuracy: 0.3187 - val_loss: 1.9832 - val_categorical_accuracy: 0.3100\n",
      "\n",
      "Epoch 00002: saving model to model_init_2020-03-0215_54_36.441155/model-00002-1.94034-0.31868-1.98320-0.31000.h5\n",
      "Epoch 3/50\n",
      "14/14 [==============================] - 23s 2s/step - loss: 1.4956 - categorical_accuracy: 0.4396 - val_loss: 1.2857 - val_categorical_accuracy: 0.4600\n",
      "\n",
      "Epoch 00003: saving model to model_init_2020-03-0215_54_36.441155/model-00003-1.49559-0.43956-1.28566-0.46000.h5\n",
      "Epoch 4/50\n",
      "14/14 [==============================] - 25s 2s/step - loss: 1.2975 - categorical_accuracy: 0.4286 - val_loss: 1.1096 - val_categorical_accuracy: 0.5400\n",
      "\n",
      "Epoch 00004: saving model to model_init_2020-03-0215_54_36.441155/model-00004-1.29746-0.42857-1.10961-0.54000.h5\n",
      "Epoch 5/50\n",
      "14/14 [==============================] - 23s 2s/step - loss: 1.3151 - categorical_accuracy: 0.4505 - val_loss: 1.1856 - val_categorical_accuracy: 0.5500\n",
      "\n",
      "Epoch 00005: saving model to model_init_2020-03-0215_54_36.441155/model-00005-1.31509-0.45055-1.18555-0.55000.h5\n",
      "Epoch 6/50\n",
      "14/14 [==============================] - 24s 2s/step - loss: 1.2372 - categorical_accuracy: 0.4670 - val_loss: 1.1141 - val_categorical_accuracy: 0.5600\n",
      "\n",
      "Epoch 00006: saving model to model_init_2020-03-0215_54_36.441155/model-00006-1.23724-0.46703-1.11414-0.56000.h5\n",
      "\n",
      "Epoch 00006: ReduceLROnPlateau reducing learning rate to 0.0005000000237487257.\n",
      "Epoch 7/50\n",
      "14/14 [==============================] - 23s 2s/step - loss: 1.1919 - categorical_accuracy: 0.5000 - val_loss: 0.9474 - val_categorical_accuracy: 0.6400\n",
      "\n",
      "Epoch 00007: saving model to model_init_2020-03-0215_54_36.441155/model-00007-1.19186-0.50000-0.94736-0.64000.h5\n",
      "Epoch 8/50\n",
      "14/14 [==============================] - 23s 2s/step - loss: 1.0620 - categorical_accuracy: 0.5659 - val_loss: 0.9183 - val_categorical_accuracy: 0.7300\n",
      "\n",
      "Epoch 00008: saving model to model_init_2020-03-0215_54_36.441155/model-00008-1.06204-0.56593-0.91830-0.73000.h5\n",
      "Epoch 9/50\n",
      "14/14 [==============================] - 24s 2s/step - loss: 1.0217 - categorical_accuracy: 0.5495 - val_loss: 0.9899 - val_categorical_accuracy: 0.6200\n",
      "\n",
      "Epoch 00009: saving model to model_init_2020-03-0215_54_36.441155/model-00009-1.02169-0.54945-0.98987-0.62000.h5\n",
      "Epoch 10/50\n",
      "14/14 [==============================] - 24s 2s/step - loss: 1.0853 - categorical_accuracy: 0.5385 - val_loss: 1.0666 - val_categorical_accuracy: 0.6000\n",
      "\n",
      "Epoch 00010: saving model to model_init_2020-03-0215_54_36.441155/model-00010-1.08529-0.53846-1.06656-0.60000.h5\n",
      "\n",
      "Epoch 00010: ReduceLROnPlateau reducing learning rate to 0.0002500000118743628.\n",
      "Epoch 11/50\n",
      "14/14 [==============================] - 23s 2s/step - loss: 0.9548 - categorical_accuracy: 0.5934 - val_loss: 1.0968 - val_categorical_accuracy: 0.5500\n",
      "\n",
      "Epoch 00011: saving model to model_init_2020-03-0215_54_36.441155/model-00011-0.95476-0.59341-1.09684-0.55000.h5\n",
      "Epoch 12/50\n",
      "14/14 [==============================] - 23s 2s/step - loss: 0.8349 - categorical_accuracy: 0.6484 - val_loss: 0.9255 - val_categorical_accuracy: 0.6500\n",
      "\n",
      "Epoch 00012: saving model to model_init_2020-03-0215_54_36.441155/model-00012-0.83486-0.64835-0.92554-0.65000.h5\n",
      "\n",
      "Epoch 00012: ReduceLROnPlateau reducing learning rate to 0.0001250000059371814.\n",
      "Epoch 13/50\n",
      "14/14 [==============================] - 23s 2s/step - loss: 0.8067 - categorical_accuracy: 0.6813 - val_loss: 0.9156 - val_categorical_accuracy: 0.6000\n",
      "\n",
      "Epoch 00013: saving model to model_init_2020-03-0215_54_36.441155/model-00013-0.80667-0.68132-0.91563-0.60000.h5\n",
      "Epoch 14/50\n",
      "14/14 [==============================] - 23s 2s/step - loss: 0.7749 - categorical_accuracy: 0.6703 - val_loss: 0.8835 - val_categorical_accuracy: 0.6300\n",
      "\n",
      "Epoch 00014: saving model to model_init_2020-03-0215_54_36.441155/model-00014-0.77485-0.67033-0.88349-0.63000.h5\n",
      "Epoch 15/50\n",
      "14/14 [==============================] - 23s 2s/step - loss: 0.8377 - categorical_accuracy: 0.6648 - val_loss: 0.8996 - val_categorical_accuracy: 0.6500\n",
      "\n",
      "Epoch 00015: saving model to model_init_2020-03-0215_54_36.441155/model-00015-0.83767-0.66484-0.89955-0.65000.h5\n",
      "Epoch 16/50\n",
      "14/14 [==============================] - 25s 2s/step - loss: 0.8574 - categorical_accuracy: 0.6648 - val_loss: 0.9503 - val_categorical_accuracy: 0.6400\n",
      "\n",
      "Epoch 00016: saving model to model_init_2020-03-0215_54_36.441155/model-00016-0.85743-0.66484-0.95028-0.64000.h5\n",
      "\n",
      "Epoch 00016: ReduceLROnPlateau reducing learning rate to 6.25000029685907e-05.\n",
      "Epoch 17/50\n",
      "14/14 [==============================] - 23s 2s/step - loss: 0.7345 - categorical_accuracy: 0.7253 - val_loss: 0.9826 - val_categorical_accuracy: 0.6400\n",
      "\n",
      "Epoch 00017: saving model to model_init_2020-03-0215_54_36.441155/model-00017-0.73450-0.72527-0.98256-0.64000.h5\n",
      "Epoch 18/50\n",
      "14/14 [==============================] - 24s 2s/step - loss: 0.6521 - categorical_accuracy: 0.7473 - val_loss: 0.8469 - val_categorical_accuracy: 0.6800\n",
      "\n",
      "Epoch 00018: saving model to model_init_2020-03-0215_54_36.441155/model-00018-0.65213-0.74725-0.84686-0.68000.h5\n",
      "Epoch 19/50\n",
      "14/14 [==============================] - 22s 2s/step - loss: 0.6927 - categorical_accuracy: 0.7143 - val_loss: 0.7382 - val_categorical_accuracy: 0.7300\n",
      "\n",
      "Epoch 00019: saving model to model_init_2020-03-0215_54_36.441155/model-00019-0.69265-0.71429-0.73820-0.73000.h5\n",
      "Epoch 20/50\n",
      "14/14 [==============================] - 23s 2s/step - loss: 0.7128 - categorical_accuracy: 0.7363 - val_loss: 0.7183 - val_categorical_accuracy: 0.7400\n",
      "\n",
      "Epoch 00020: saving model to model_init_2020-03-0215_54_36.441155/model-00020-0.71280-0.73626-0.71827-0.74000.h5\n",
      "Epoch 21/50\n",
      "14/14 [==============================] - 24s 2s/step - loss: 0.6982 - categorical_accuracy: 0.7088 - val_loss: 0.7915 - val_categorical_accuracy: 0.7100\n",
      "\n",
      "Epoch 00021: saving model to model_init_2020-03-0215_54_36.441155/model-00021-0.69815-0.70879-0.79150-0.71000.h5\n",
      "Epoch 22/50\n",
      "14/14 [==============================] - 24s 2s/step - loss: 0.6729 - categorical_accuracy: 0.7363 - val_loss: 0.6990 - val_categorical_accuracy: 0.7600\n",
      "\n",
      "Epoch 00022: saving model to model_init_2020-03-0215_54_36.441155/model-00022-0.67291-0.73626-0.69899-0.76000.h5\n",
      "Epoch 23/50\n",
      "14/14 [==============================] - 24s 2s/step - loss: 0.7839 - categorical_accuracy: 0.6374 - val_loss: 0.6934 - val_categorical_accuracy: 0.7600\n",
      "\n",
      "Epoch 00023: saving model to model_init_2020-03-0215_54_36.441155/model-00023-0.78390-0.63736-0.69340-0.76000.h5\n",
      "Epoch 24/50\n",
      "14/14 [==============================] - 23s 2s/step - loss: 0.7346 - categorical_accuracy: 0.6923 - val_loss: 0.6780 - val_categorical_accuracy: 0.7500\n",
      "\n",
      "Epoch 00024: saving model to model_init_2020-03-0215_54_36.441155/model-00024-0.73465-0.69231-0.67795-0.75000.h5\n",
      "Epoch 25/50\n",
      "14/14 [==============================] - 23s 2s/step - loss: 0.6246 - categorical_accuracy: 0.7802 - val_loss: 0.6922 - val_categorical_accuracy: 0.7700\n",
      "\n",
      "Epoch 00025: saving model to model_init_2020-03-0215_54_36.441155/model-00025-0.62462-0.78022-0.69216-0.77000.h5\n",
      "Epoch 26/50\n",
      "14/14 [==============================] - 24s 2s/step - loss: 0.6870 - categorical_accuracy: 0.7143 - val_loss: 0.8578 - val_categorical_accuracy: 0.6800\n",
      "\n",
      "Epoch 00026: saving model to model_init_2020-03-0215_54_36.441155/model-00026-0.68698-0.71429-0.85779-0.68000.h5\n",
      "\n",
      "Epoch 00026: ReduceLROnPlateau reducing learning rate to 3.125000148429535e-05.\n",
      "Epoch 27/50\n",
      "14/14 [==============================] - 23s 2s/step - loss: 0.6157 - categorical_accuracy: 0.7637 - val_loss: 0.8092 - val_categorical_accuracy: 0.6900\n",
      "\n",
      "Epoch 00027: saving model to model_init_2020-03-0215_54_36.441155/model-00027-0.61573-0.76374-0.80921-0.69000.h5\n",
      "Epoch 28/50\n",
      "14/14 [==============================] - 24s 2s/step - loss: 0.6055 - categorical_accuracy: 0.7143 - val_loss: 0.7194 - val_categorical_accuracy: 0.7600\n",
      "\n",
      "Epoch 00028: saving model to model_init_2020-03-0215_54_36.441155/model-00028-0.60546-0.71429-0.71943-0.76000.h5\n",
      "\n",
      "Epoch 00028: ReduceLROnPlateau reducing learning rate to 1.5625000742147677e-05.\n",
      "Epoch 29/50\n",
      "14/14 [==============================] - 23s 2s/step - loss: 0.6005 - categorical_accuracy: 0.7527 - val_loss: 0.6839 - val_categorical_accuracy: 0.7800\n",
      "\n",
      "Epoch 00029: saving model to model_init_2020-03-0215_54_36.441155/model-00029-0.60054-0.75275-0.68389-0.78000.h5\n",
      "Epoch 30/50\n",
      "14/14 [==============================] - 23s 2s/step - loss: 0.5732 - categorical_accuracy: 0.7637 - val_loss: 0.6607 - val_categorical_accuracy: 0.8000\n",
      "\n",
      "Epoch 00030: saving model to model_init_2020-03-0215_54_36.441155/model-00030-0.57321-0.76374-0.66069-0.80000.h5\n",
      "Epoch 31/50\n",
      "14/14 [==============================] - 23s 2s/step - loss: 0.5330 - categorical_accuracy: 0.8242 - val_loss: 0.6600 - val_categorical_accuracy: 0.7900\n",
      "\n",
      "Epoch 00031: saving model to model_init_2020-03-0215_54_36.441155/model-00031-0.53295-0.82418-0.66002-0.79000.h5\n",
      "Epoch 32/50\n",
      "14/14 [==============================] - 23s 2s/step - loss: 0.6491 - categorical_accuracy: 0.7418 - val_loss: 0.6574 - val_categorical_accuracy: 0.7900\n",
      "\n",
      "Epoch 00032: saving model to model_init_2020-03-0215_54_36.441155/model-00032-0.64908-0.74176-0.65742-0.79000.h5\n",
      "Epoch 33/50\n",
      "14/14 [==============================] - 24s 2s/step - loss: 0.6788 - categorical_accuracy: 0.7473 - val_loss: 0.6431 - val_categorical_accuracy: 0.8000\n",
      "\n",
      "Epoch 00033: saving model to model_init_2020-03-0215_54_36.441155/model-00033-0.67875-0.74725-0.64306-0.80000.h5\n",
      "Epoch 34/50\n",
      "14/14 [==============================] - 23s 2s/step - loss: 0.5787 - categorical_accuracy: 0.7637 - val_loss: 0.6227 - val_categorical_accuracy: 0.8100\n",
      "\n",
      "Epoch 00034: saving model to model_init_2020-03-0215_54_36.441155/model-00034-0.57874-0.76374-0.62272-0.81000.h5\n",
      "Epoch 35/50\n",
      "14/14 [==============================] - 23s 2s/step - loss: 0.5422 - categorical_accuracy: 0.7747 - val_loss: 0.6081 - val_categorical_accuracy: 0.8100\n",
      "\n",
      "Epoch 00035: saving model to model_init_2020-03-0215_54_36.441155/model-00035-0.54218-0.77473-0.60809-0.81000.h5\n",
      "Epoch 36/50\n",
      "14/14 [==============================] - 23s 2s/step - loss: 0.6002 - categorical_accuracy: 0.7747 - val_loss: 0.6131 - val_categorical_accuracy: 0.8100\n",
      "\n",
      "Epoch 00036: saving model to model_init_2020-03-0215_54_36.441155/model-00036-0.60015-0.77473-0.61311-0.81000.h5\n",
      "Epoch 37/50\n",
      "14/14 [==============================] - 25s 2s/step - loss: 0.5762 - categorical_accuracy: 0.7857 - val_loss: 0.6233 - val_categorical_accuracy: 0.8000\n",
      "\n",
      "Epoch 00037: saving model to model_init_2020-03-0215_54_36.441155/model-00037-0.57617-0.78571-0.62327-0.80000.h5\n",
      "\n",
      "Epoch 00037: ReduceLROnPlateau reducing learning rate to 7.812500371073838e-06.\n",
      "Epoch 38/50\n",
      "14/14 [==============================] - 23s 2s/step - loss: 0.7057 - categorical_accuracy: 0.7143 - val_loss: 0.6243 - val_categorical_accuracy: 0.8100\n",
      "\n",
      "Epoch 00038: saving model to model_init_2020-03-0215_54_36.441155/model-00038-0.70574-0.71429-0.62426-0.81000.h5\n",
      "Epoch 39/50\n",
      "14/14 [==============================] - 23s 2s/step - loss: 0.6721 - categorical_accuracy: 0.7747 - val_loss: 0.6206 - val_categorical_accuracy: 0.8100\n",
      "\n",
      "Epoch 00039: saving model to model_init_2020-03-0215_54_36.441155/model-00039-0.67210-0.77473-0.62063-0.81000.h5\n",
      "\n",
      "Epoch 00039: ReduceLROnPlateau reducing learning rate to 3.906250185536919e-06.\n",
      "Epoch 40/50\n",
      "14/14 [==============================] - 24s 2s/step - loss: 0.5740 - categorical_accuracy: 0.7747 - val_loss: 0.6188 - val_categorical_accuracy: 0.8100\n",
      "\n",
      "Epoch 00040: saving model to model_init_2020-03-0215_54_36.441155/model-00040-0.57403-0.77473-0.61880-0.81000.h5\n",
      "Epoch 41/50\n",
      "14/14 [==============================] - 23s 2s/step - loss: 0.5598 - categorical_accuracy: 0.7857 - val_loss: 0.6155 - val_categorical_accuracy: 0.8100\n",
      "\n",
      "Epoch 00041: saving model to model_init_2020-03-0215_54_36.441155/model-00041-0.55983-0.78571-0.61552-0.81000.h5\n",
      "\n",
      "Epoch 00041: ReduceLROnPlateau reducing learning rate to 1.9531250927684596e-06.\n",
      "Epoch 42/50\n",
      "14/14 [==============================] - 24s 2s/step - loss: 0.5599 - categorical_accuracy: 0.7637 - val_loss: 0.6154 - val_categorical_accuracy: 0.8100\n",
      "\n",
      "Epoch 00042: saving model to model_init_2020-03-0215_54_36.441155/model-00042-0.55994-0.76374-0.61536-0.81000.h5\n",
      "Epoch 43/50\n",
      "14/14 [==============================] - 24s 2s/step - loss: 0.6408 - categorical_accuracy: 0.7802 - val_loss: 0.6136 - val_categorical_accuracy: 0.8100\n",
      "\n",
      "Epoch 00043: saving model to model_init_2020-03-0215_54_36.441155/model-00043-0.64084-0.78022-0.61364-0.81000.h5\n",
      "\n",
      "Epoch 00043: ReduceLROnPlateau reducing learning rate to 9.765625463842298e-07.\n",
      "Epoch 44/50\n",
      "14/14 [==============================] - 22s 2s/step - loss: 0.6380 - categorical_accuracy: 0.7527 - val_loss: 0.6124 - val_categorical_accuracy: 0.8100\n",
      "\n",
      "Epoch 00044: saving model to model_init_2020-03-0215_54_36.441155/model-00044-0.63798-0.75275-0.61244-0.81000.h5\n",
      "Epoch 45/50\n",
      "14/14 [==============================] - 23s 2s/step - loss: 0.5357 - categorical_accuracy: 0.7637 - val_loss: 0.6132 - val_categorical_accuracy: 0.8100\n",
      "\n",
      "Epoch 00045: saving model to model_init_2020-03-0215_54_36.441155/model-00045-0.53575-0.76374-0.61316-0.81000.h5\n",
      "\n",
      "Epoch 00045: ReduceLROnPlateau reducing learning rate to 4.882812731921149e-07.\n",
      "Epoch 46/50\n",
      "14/14 [==============================] - 24s 2s/step - loss: 0.5772 - categorical_accuracy: 0.8187 - val_loss: 0.6128 - val_categorical_accuracy: 0.8100\n",
      "\n",
      "Epoch 00046: saving model to model_init_2020-03-0215_54_36.441155/model-00046-0.57722-0.81868-0.61276-0.81000.h5\n",
      "Epoch 47/50\n",
      "14/14 [==============================] - 25s 2s/step - loss: 0.5653 - categorical_accuracy: 0.7912 - val_loss: 0.6100 - val_categorical_accuracy: 0.8100\n",
      "\n",
      "Epoch 00047: saving model to model_init_2020-03-0215_54_36.441155/model-00047-0.56527-0.79121-0.61002-0.81000.h5\n",
      "\n",
      "Epoch 00047: ReduceLROnPlateau reducing learning rate to 2.4414063659605745e-07.\n",
      "Epoch 48/50\n",
      "14/14 [==============================] - 22s 2s/step - loss: 0.6330 - categorical_accuracy: 0.7967 - val_loss: 0.6098 - val_categorical_accuracy: 0.8100\n",
      "\n",
      "Epoch 00048: saving model to model_init_2020-03-0215_54_36.441155/model-00048-0.63296-0.79670-0.60982-0.81000.h5\n",
      "Epoch 49/50\n",
      "14/14 [==============================] - 24s 2s/step - loss: 0.5987 - categorical_accuracy: 0.7637 - val_loss: 0.6111 - val_categorical_accuracy: 0.8200\n",
      "\n",
      "Epoch 00049: saving model to model_init_2020-03-0215_54_36.441155/model-00049-0.59868-0.76374-0.61110-0.82000.h5\n",
      "\n",
      "Epoch 00049: ReduceLROnPlateau reducing learning rate to 1.2207031829802872e-07.\n",
      "Epoch 50/50\n",
      "14/14 [==============================] - 23s 2s/step - loss: 0.5487 - categorical_accuracy: 0.8132 - val_loss: 0.6087 - val_categorical_accuracy: 0.8100\n",
      "\n",
      "Epoch 00050: saving model to model_init_2020-03-0215_54_36.441155/model-00050-0.54866-0.81319-0.60871-0.81000.h5\n"
     ]
    }
   ],
   "source": [
    "history = model_al1.fit_generator(train_generator, steps_per_epoch=steps_per_epoch, epochs=num_epochs, verbose=1, \n",
    "                    callbacks=callbacks_list, validation_data=val_generator, \n",
    "                    validation_steps=validation_steps, class_weight=None, workers=1, initial_epoch=0)"
   ]
  },
  {
   "cell_type": "code",
   "execution_count": 13,
   "metadata": {},
   "outputs": [],
   "source": [
    "def plot(history):\n",
    "    fig, axes = plt.subplots(nrows=1, ncols=2, figsize=(15,4))\n",
    "    axes[0].plot(history.history['loss'])   \n",
    "    axes[0].plot(history.history['val_loss'])\n",
    "    axes[0].legend(['loss','val_loss'])\n",
    "    plt.ylabel('Loss')\n",
    "    plt.xlabel('Epoch')\n",
    "    \n",
    "\n",
    "\n",
    "    axes[1].plot(history.history['categorical_accuracy'])   \n",
    "    axes[1].plot(history.history['val_categorical_accuracy'])\n",
    "    axes[1].legend(['categorical_accuracy','val_categorical_accuracy'])\n",
    "    plt.ylabel('Accuracy')\n",
    "    plt.xlabel('Epoch')\n",
    "    \n",
    "    plt.show()"
   ]
  },
  {
   "cell_type": "code",
   "execution_count": 14,
   "metadata": {},
   "outputs": [
    {
     "data": {
      "image/png": "[encoded data removed]",
      "text/plain": [
       "<Figure size 1080x288 with 2 Axes>"
      ]
     },
     "metadata": {},
     "output_type": "display_data"
    }
   ],
   "source": [
    "plot(history)"
   ]
  },
  {
   "cell_type": "markdown",
   "metadata": {},
   "source": [
    "### Model 2: 2D Conv + RNN (Transfer Learning using MobileNet)"
   ]
  },
  {
   "cell_type": "code",
   "execution_count": 15,
   "metadata": {},
   "outputs": [],
   "source": [
    "batch_size = 10\n",
    "num_epochs = 25\n",
    "x = 30 # # x is the number of images\n",
    "y = 120 # width of the image\n",
    "z = 120 # height of the image\n",
    "classes = 5 #5 gestures \n",
    "channel = 3 #RGB"
   ]
  },
  {
   "cell_type": "code",
   "execution_count": 16,
   "metadata": {},
   "outputs": [
    {
     "name": "stdout",
     "output_type": "stream",
     "text": [
      "Downloading data from https://github.com/fchollet/deep-learning-models/releases/download/v0.6/mobilenet_1_0_224_tf_no_top.h5\n",
      "17227776/17225924 [==============================] - 2s 0us/step\n"
     ]
    }
   ],
   "source": [
    "from keras.applications import mobilenet\n",
    "pretrained_mobilenet = mobilenet.MobileNet(weights='imagenet', include_top=False)\n",
    "from keras.layers.convolutional import Conv2D, MaxPooling2D\n",
    "from keras.layers.recurrent import LSTM"
   ]
  },
  {
   "cell_type": "code",
   "execution_count": 17,
   "metadata": {},
   "outputs": [],
   "source": [
    "model_6 = Sequential()\n",
    "model_6.add(TimeDistributed(pretrained_mobilenet,input_shape=(x,y,z,channel)))\n",
    "\n",
    "model_6.add(TimeDistributed(BatchNormalization()))\n",
    "model_6.add(TimeDistributed(MaxPooling2D((2, 2))))\n",
    "model_6.add(TimeDistributed(Flatten()))\n",
    "\n",
    "model_6.add(GRU(128))\n",
    "model_6.add(Dropout(0.25))\n",
    "\n",
    "model_6.add(Dense(128,activation='relu'))\n",
    "model_6.add(Dropout(0.25))\n",
    "\n",
    "model_6.add(Dense(5, activation='softmax'))"
   ]
  },
  {
   "cell_type": "code",
   "execution_count": 18,
   "metadata": {},
   "outputs": [
    {
     "name": "stdout",
     "output_type": "stream",
     "text": [
      "_________________________________________________________________\n",
      "Layer (type)                 Output Shape              Param #   \n",
      "=================================================================\n",
      "time_distributed_1 (TimeDist (None, 30, 3, 3, 1024)    3228864   \n",
      "_________________________________________________________________\n",
      "time_distributed_2 (TimeDist (None, 30, 3, 3, 1024)    4096      \n",
      "_________________________________________________________________\n",
      "time_distributed_3 (TimeDist (None, 30, 1, 1, 1024)    0         \n",
      "_________________________________________________________________\n",
      "time_distributed_4 (TimeDist (None, 30, 1024)          0         \n",
      "_________________________________________________________________\n",
      "gru_1 (GRU)                  (None, 128)               442752    \n",
      "_________________________________________________________________\n",
      "dropout_3 (Dropout)          (None, 128)               0         \n",
      "_________________________________________________________________\n",
      "dense_4 (Dense)              (None, 128)               16512     \n",
      "_________________________________________________________________\n",
      "dropout_4 (Dropout)          (None, 128)               0         \n",
      "_________________________________________________________________\n",
      "dense_5 (Dense)              (None, 5)                 645       \n",
      "=================================================================\n",
      "Total params: 3,692,869\n",
      "Trainable params: 3,668,933\n",
      "Non-trainable params: 23,936\n",
      "_________________________________________________________________\n",
      "None\n"
     ]
    }
   ],
   "source": [
    "train_generator6 = generator(train_path, train_doc, batch_size)\n",
    "val_generator6 = generator(val_path, val_doc, batch_size)\n",
    "\n",
    "optimiser = optimizers.Adam(lr=0.0001) #write your optimizer\n",
    "model_6.compile(optimizer=optimiser, loss='categorical_crossentropy', metrics=['categorical_accuracy'])\n",
    "print(model_6.summary())"
   ]
  },
  {
   "cell_type": "code",
   "execution_count": 19,
   "metadata": {},
   "outputs": [],
   "source": [
    "model_name = 'model_init' + '_' + str(curr_dt_time).replace(' ','').replace(':','_') + '/'\n",
    "    \n",
    "if not os.path.exists(model_name):\n",
    "    os.mkdir(model_name)\n",
    "        \n",
    "filepath = model_name + 'model-{epoch:05d}-{loss:.5f}-{categorical_accuracy:.5f}-{val_loss:.5f}-{val_categorical_accuracy:.5f}.h5'\n",
    "\n",
    "checkpoint = ModelCheckpoint(filepath, monitor='val_loss', verbose=1, save_best_only=False, save_weights_only=False, mode='auto', period=1)\n",
    "\n",
    "LR = ReduceLROnPlateau(monitor='val_loss', factor=0.5, patience=2, cooldown=1, verbose=1)  # write the REducelronplateau code here\n",
    "callbacks_list = [checkpoint, LR]"
   ]
  },
  {
   "cell_type": "code",
   "execution_count": 20,
   "metadata": {},
   "outputs": [],
   "source": [
    "if (num_train_sequences%batch_size) == 0:\n",
    "    steps_per_epoch = int(num_train_sequences/batch_size)\n",
    "else:\n",
    "    steps_per_epoch = (num_train_sequences//batch_size) + 1\n",
    "\n",
    "if (num_val_sequences%batch_size) == 0:\n",
    "    validation_steps = int(num_val_sequences/batch_size)\n",
    "else:\n",
    "    validation_steps = (num_val_sequences//batch_size) + 1"
   ]
  },
  {
   "cell_type": "code",
   "execution_count": 21,
   "metadata": {},
   "outputs": [
    {
     "name": "stdout",
     "output_type": "stream",
     "text": [
      "Source path =  val ; batch size = 10\n",
      "Source path =  train ; batch size = 10\n",
      "Epoch 1/25\n",
      "61/67 [==========================>...] - ETA: 7s - loss: 1.6751 - categorical_accuracy: 0.2295Batch:  67 Index: 10\n",
      "67/67 [==============================] - 91s 1s/step - loss: 1.6612 - categorical_accuracy: 0.2303 - val_loss: 1.3931 - val_categorical_accuracy: 0.4400\n",
      "\n",
      "Epoch 00001: saving model to model_init_2020-03-0215_54_36.441155/model-00001-1.66149-0.22926-1.39315-0.44000.h5\n",
      "Epoch 2/25\n",
      "67/67 [==============================] - 28s 425ms/step - loss: 1.4510 - categorical_accuracy: 0.3582 - val_loss: 1.2861 - val_categorical_accuracy: 0.5400\n",
      "\n",
      "Epoch 00002: saving model to model_init_2020-03-0215_54_36.441155/model-00002-1.45095-0.35821-1.28610-0.54000.h5\n",
      "Epoch 3/25\n",
      "67/67 [==============================] - 29s 430ms/step - loss: 1.3821 - categorical_accuracy: 0.3930 - val_loss: 1.2199 - val_categorical_accuracy: 0.5800\n",
      "\n",
      "Epoch 00003: saving model to model_init_2020-03-0215_54_36.441155/model-00003-1.38213-0.39303-1.21992-0.58000.h5\n",
      "Epoch 4/25\n",
      "67/67 [==============================] - 29s 426ms/step - loss: 1.3379 - categorical_accuracy: 0.4328 - val_loss: 1.1229 - val_categorical_accuracy: 0.5500\n",
      "\n",
      "Epoch 00004: saving model to model_init_2020-03-0215_54_36.441155/model-00004-1.33787-0.43284-1.12293-0.55000.h5\n",
      "Epoch 5/25\n",
      "67/67 [==============================] - 29s 431ms/step - loss: 1.1589 - categorical_accuracy: 0.5473 - val_loss: 0.9835 - val_categorical_accuracy: 0.6400\n",
      "\n",
      "Epoch 00005: saving model to model_init_2020-03-0215_54_36.441155/model-00005-1.15886-0.54726-0.98349-0.64000.h5\n",
      "Epoch 6/25\n",
      "67/67 [==============================] - 29s 430ms/step - loss: 1.1238 - categorical_accuracy: 0.5821 - val_loss: 0.9776 - val_categorical_accuracy: 0.6400\n",
      "\n",
      "Epoch 00006: saving model to model_init_2020-03-0215_54_36.441155/model-00006-1.12385-0.58209-0.97763-0.64000.h5\n",
      "Epoch 7/25\n",
      "67/67 [==============================] - 29s 434ms/step - loss: 1.1198 - categorical_accuracy: 0.5423 - val_loss: 0.8611 - val_categorical_accuracy: 0.6600\n",
      "\n",
      "Epoch 00007: saving model to model_init_2020-03-0215_54_36.441155/model-00007-1.11976-0.54229-0.86109-0.66000.h5\n",
      "Epoch 8/25\n",
      "67/67 [==============================] - 28s 425ms/step - loss: 0.9949 - categorical_accuracy: 0.5871 - val_loss: 0.8223 - val_categorical_accuracy: 0.6900\n",
      "\n",
      "Epoch 00008: saving model to model_init_2020-03-0215_54_36.441155/model-00008-0.99491-0.58706-0.82232-0.69000.h5\n",
      "Epoch 9/25\n",
      "67/67 [==============================] - 29s 430ms/step - loss: 0.9028 - categorical_accuracy: 0.6567 - val_loss: 0.7324 - val_categorical_accuracy: 0.7200\n",
      "\n",
      "Epoch 00009: saving model to model_init_2020-03-0215_54_36.441155/model-00009-0.90284-0.65672-0.73236-0.72000.h5\n",
      "Epoch 10/25\n",
      "67/67 [==============================] - 29s 428ms/step - loss: 0.7777 - categorical_accuracy: 0.7164 - val_loss: 0.6771 - val_categorical_accuracy: 0.6800\n",
      "\n",
      "Epoch 00010: saving model to model_init_2020-03-0215_54_36.441155/model-00010-0.77770-0.71642-0.67708-0.68000.h5\n",
      "Epoch 11/25\n",
      "67/67 [==============================] - 29s 427ms/step - loss: 0.7409 - categorical_accuracy: 0.7562 - val_loss: 0.6326 - val_categorical_accuracy: 0.7400\n",
      "\n",
      "Epoch 00011: saving model to model_init_2020-03-0215_54_36.441155/model-00011-0.74091-0.75622-0.63258-0.74000.h5\n",
      "Epoch 12/25\n",
      "67/67 [==============================] - 29s 428ms/step - loss: 0.7696 - categorical_accuracy: 0.6866 - val_loss: 0.5883 - val_categorical_accuracy: 0.7700\n",
      "\n",
      "Epoch 00012: saving model to model_init_2020-03-0215_54_36.441155/model-00012-0.76959-0.68657-0.58830-0.77000.h5\n",
      "Epoch 13/25\n",
      "67/67 [==============================] - 29s 430ms/step - loss: 0.6341 - categorical_accuracy: 0.7662 - val_loss: 0.5471 - val_categorical_accuracy: 0.8000\n",
      "\n",
      "Epoch 00013: saving model to model_init_2020-03-0215_54_36.441155/model-00013-0.63412-0.76617-0.54712-0.80000.h5\n",
      "Epoch 14/25\n",
      "67/67 [==============================] - 29s 426ms/step - loss: 0.5636 - categorical_accuracy: 0.8259 - val_loss: 0.5430 - val_categorical_accuracy: 0.7800\n",
      "\n",
      "Epoch 00014: saving model to model_init_2020-03-0215_54_36.441155/model-00014-0.56364-0.82587-0.54296-0.78000.h5\n",
      "Epoch 15/25\n",
      "67/67 [==============================] - 29s 428ms/step - loss: 0.5392 - categorical_accuracy: 0.8408 - val_loss: 0.5833 - val_categorical_accuracy: 0.7600\n",
      "\n",
      "Epoch 00015: saving model to model_init_2020-03-0215_54_36.441155/model-00015-0.53924-0.84080-0.58332-0.76000.h5\n",
      "Epoch 16/25\n",
      "67/67 [==============================] - 29s 428ms/step - loss: 0.4621 - categorical_accuracy: 0.8159 - val_loss: 0.5020 - val_categorical_accuracy: 0.8100\n",
      "\n",
      "Epoch 00016: saving model to model_init_2020-03-0215_54_36.441155/model-00016-0.46208-0.81592-0.50201-0.81000.h5\n",
      "Epoch 17/25\n",
      "67/67 [==============================] - 29s 429ms/step - loss: 0.4641 - categorical_accuracy: 0.8458 - val_loss: 0.5297 - val_categorical_accuracy: 0.7600\n",
      "\n",
      "Epoch 00017: saving model to model_init_2020-03-0215_54_36.441155/model-00017-0.46409-0.84577-0.52970-0.76000.h5\n",
      "Epoch 18/25\n",
      "67/67 [==============================] - 29s 434ms/step - loss: 0.4616 - categorical_accuracy: 0.8209 - val_loss: 0.4976 - val_categorical_accuracy: 0.7900\n",
      "\n",
      "Epoch 00018: saving model to model_init_2020-03-0215_54_36.441155/model-00018-0.46157-0.82090-0.49758-0.79000.h5\n",
      "Epoch 19/25\n",
      "67/67 [==============================] - 29s 425ms/step - loss: 0.3597 - categorical_accuracy: 0.9005 - val_loss: 0.4598 - val_categorical_accuracy: 0.7700\n",
      "\n",
      "Epoch 00019: saving model to model_init_2020-03-0215_54_36.441155/model-00019-0.35973-0.90050-0.45981-0.77000.h5\n",
      "Epoch 20/25\n",
      "67/67 [==============================] - 29s 429ms/step - loss: 0.3127 - categorical_accuracy: 0.9055 - val_loss: 0.4017 - val_categorical_accuracy: 0.8200\n",
      "\n",
      "Epoch 00020: saving model to model_init_2020-03-0215_54_36.441155/model-00020-0.31267-0.90547-0.40171-0.82000.h5\n",
      "Epoch 21/25\n",
      "67/67 [==============================] - 29s 428ms/step - loss: 0.3566 - categorical_accuracy: 0.8856 - val_loss: 0.3532 - val_categorical_accuracy: 0.8500\n",
      "\n",
      "Epoch 00021: saving model to model_init_2020-03-0215_54_36.441155/model-00021-0.35657-0.88557-0.35318-0.85000.h5\n",
      "Epoch 22/25\n",
      "67/67 [==============================] - 29s 426ms/step - loss: 0.2389 - categorical_accuracy: 0.9055 - val_loss: 0.3675 - val_categorical_accuracy: 0.8400\n",
      "\n",
      "Epoch 00022: saving model to model_init_2020-03-0215_54_36.441155/model-00022-0.23893-0.90547-0.36751-0.84000.h5\n",
      "Epoch 23/25\n",
      "67/67 [==============================] - 29s 427ms/step - loss: 0.2766 - categorical_accuracy: 0.9254 - val_loss: 0.4274 - val_categorical_accuracy: 0.8300\n",
      "\n",
      "Epoch 00023: saving model to model_init_2020-03-0215_54_36.441155/model-00023-0.27658-0.92537-0.42743-0.83000.h5\n",
      "\n",
      "Epoch 00023: ReduceLROnPlateau reducing learning rate to 4.999999873689376e-05.\n",
      "Epoch 24/25\n",
      "67/67 [==============================] - 29s 432ms/step - loss: 0.4116 - categorical_accuracy: 0.8756 - val_loss: 0.4220 - val_categorical_accuracy: 0.8300\n",
      "\n",
      "Epoch 00024: saving model to model_init_2020-03-0215_54_36.441155/model-00024-0.41158-0.87562-0.42205-0.83000.h5\n",
      "Epoch 25/25\n",
      "67/67 [==============================] - 28s 424ms/step - loss: 0.2161 - categorical_accuracy: 0.9353 - val_loss: 0.3929 - val_categorical_accuracy: 0.8300\n",
      "\n",
      "Epoch 00025: saving model to model_init_2020-03-0215_54_36.441155/model-00025-0.21611-0.93532-0.39288-0.83000.h5\n",
      "\n",
      "Epoch 00025: ReduceLROnPlateau reducing learning rate to 2.499999936844688e-05.\n"
     ]
    }
   ],
   "source": [
    "history6 = model_6.fit_generator(train_generator6, steps_per_epoch=steps_per_epoch, epochs=num_epochs, verbose=1, \n",
    "                    callbacks=callbacks_list, validation_data=val_generator6, \n",
    "                    validation_steps=validation_steps, class_weight=None, workers=1, initial_epoch=0)"
   ]
  },
  {
   "cell_type": "code",
   "execution_count": 22,
   "metadata": {},
   "outputs": [
    {
     "data": {
      "image/png": "[encoded data removed]",
      "text/plain": [
       "<Figure size 1080x288 with 2 Axes>"
      ]
     },
     "metadata": {},
     "output_type": "display_data"
    }
   ],
   "source": [
    "plot(history6)"
   ]
  },
  {
   "cell_type": "code",
   "execution_count": null,
   "metadata": {},
   "outputs": [],
   "source": []
  }
 ],
 "metadata": {
  "kernelspec": {
   "display_name": "Python 3",
   "language": "python",
   "name": "python3"
  },
  "language_info": {
   "codemirror_mode": {
    "name": "ipython",
    "version": 3
   },
   "file_extension": ".py",
   "mimetype": "text/x-python",
   "name": "python",
   "nbconvert_exporter": "python",
   "pygments_lexer": "ipython3",
   "version": "3.7.4"
  }
 },
 "nbformat": 4,
 "nbformat_minor": 2
}
